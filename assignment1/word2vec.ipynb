{
  "nbformat": 4,
  "nbformat_minor": 0,
  "metadata": {
    "colab": {
      "provenance": []
    },
    "kernelspec": {
      "name": "python3",
      "display_name": "Python 3"
    },
    "language_info": {
      "name": "python"
    }
  },
  "cells": [
    {
      "cell_type": "code",
      "source": [
        "import gensim.downloader\n",
        "w2v = gensim.downloader.load('word2vec-google-news-300')"
      ],
      "metadata": {
        "id": "zUSxVff_xVJ0"
      },
      "execution_count": 2,
      "outputs": []
    },
    {
      "cell_type": "code",
      "execution_count": 46,
      "metadata": {
        "colab": {
          "base_uri": "https://localhost:8080/"
        },
        "id": "8SawQAuguEGr",
        "outputId": "6cae6cfc-4d18-4dcd-e88b-1dff149e87e9"
      },
      "outputs": [
        {
          "output_type": "stream",
          "name": "stdout",
          "text": [
            "Unattractive : Successful :: Attractive : ?\n",
            "[('Lucrative', 0.473), ('Profitable', 0.455), ('successful', 0.453), ('Exciting', 0.442), ('Innovative', 0.416), ('Attract', 0.41), ('Succesful', 0.408), ('NxLevel', 0.406), ('Success', 0.402), ('Pioneering', 0.399)]\n"
          ]
        }
      ],
      "source": [
        "def analogy (a, b, c):\n",
        "    print (a + \" : \" + b + \" :: \" + c + \" : ?\")\n",
        "    print ([(w, round (c , 3) ) for w, c in w2v.most_similar(positive =[c, b], negative =[a])])\n",
        "\n",
        "\n",
        "analogy ('Unattractive', 'Successful', 'Attractive')"
      ]
    }
  ]
}